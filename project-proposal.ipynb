{
 "cells": [
  {
   "cell_type": "code",
   "execution_count": 7,
   "id": "9b25826d-290b-4d30-bc6f-a341aa84ebe1",
   "metadata": {},
   "outputs": [],
   "source": [
    "library(tidyverse)\n",
    "library(repr)\n",
    "library(dplyr)\n",
    "options(repr.matrix.max.rows = 6)"
   ]
  },
  {
   "cell_type": "code",
   "execution_count": 8,
   "id": "90332cbc-ad6f-4338-9bf1-3b611e7111ba",
   "metadata": {},
   "outputs": [
    {
     "name": "stderr",
     "output_type": "stream",
     "text": [
      "\u001b[1m\u001b[22mNew names:\n",
      "\u001b[36m•\u001b[39m `` -> `...1`\n",
      "\u001b[1mRows: \u001b[22m\u001b[34m6866\u001b[39m \u001b[1mColumns: \u001b[22m\u001b[34m50\u001b[39m\n",
      "\u001b[36m──\u001b[39m \u001b[1mColumn specification\u001b[22m \u001b[36m────────────────────────────────────────────────────────\u001b[39m\n",
      "\u001b[1mDelimiter:\u001b[22m \",\"\n",
      "\u001b[31mchr\u001b[39m (16): tourney_id, tourney_name, surface, tourney_level, winner_seed, win...\n",
      "\u001b[32mdbl\u001b[39m (34): ...1, draw_size, tourney_date, match_num, winner_id, winner_ht, wi...\n",
      "\n",
      "\u001b[36mℹ\u001b[39m Use `spec()` to retrieve the full column specification for this data.\n",
      "\u001b[36mℹ\u001b[39m Specify the column types or set `show_col_types = FALSE` to quiet this message.\n"
     ]
    },
    {
     "data": {
      "text/html": [
       "<table class=\"dataframe\">\n",
       "<caption>A spec_tbl_df: 6866 × 50</caption>\n",
       "<thead>\n",
       "\t<tr><th scope=col>...1</th><th scope=col>tourney_id</th><th scope=col>tourney_name</th><th scope=col>surface</th><th scope=col>draw_size</th><th scope=col>tourney_level</th><th scope=col>tourney_date</th><th scope=col>match_num</th><th scope=col>winner_id</th><th scope=col>winner_seed</th><th scope=col>⋯</th><th scope=col>l_1stIn</th><th scope=col>l_1stWon</th><th scope=col>l_2ndWon</th><th scope=col>l_SvGms</th><th scope=col>l_bpSaved</th><th scope=col>l_bpFaced</th><th scope=col>winner_rank</th><th scope=col>winner_rank_points</th><th scope=col>loser_rank</th><th scope=col>loser_rank_points</th></tr>\n",
       "\t<tr><th scope=col>&lt;dbl&gt;</th><th scope=col>&lt;chr&gt;</th><th scope=col>&lt;chr&gt;</th><th scope=col>&lt;chr&gt;</th><th scope=col>&lt;dbl&gt;</th><th scope=col>&lt;chr&gt;</th><th scope=col>&lt;dbl&gt;</th><th scope=col>&lt;dbl&gt;</th><th scope=col>&lt;dbl&gt;</th><th scope=col>&lt;chr&gt;</th><th scope=col>⋯</th><th scope=col>&lt;dbl&gt;</th><th scope=col>&lt;dbl&gt;</th><th scope=col>&lt;dbl&gt;</th><th scope=col>&lt;dbl&gt;</th><th scope=col>&lt;dbl&gt;</th><th scope=col>&lt;dbl&gt;</th><th scope=col>&lt;dbl&gt;</th><th scope=col>&lt;dbl&gt;</th><th scope=col>&lt;dbl&gt;</th><th scope=col>&lt;dbl&gt;</th></tr>\n",
       "</thead>\n",
       "<tbody>\n",
       "\t<tr><td>0</td><td>2019-M020</td><td>Brisbane</td><td>Hard</td><td>32</td><td>A</td><td>20181231</td><td>300</td><td>105453</td><td>2</td><td>⋯</td><td>54</td><td>34</td><td>20</td><td>14</td><td>10</td><td>15</td><td> 9</td><td>3590</td><td> 16</td><td>1977</td></tr>\n",
       "\t<tr><td>1</td><td>2019-M020</td><td>Brisbane</td><td>Hard</td><td>32</td><td>A</td><td>20181231</td><td>299</td><td>106421</td><td>4</td><td>⋯</td><td>52</td><td>36</td><td> 7</td><td>10</td><td>10</td><td>13</td><td>16</td><td>1977</td><td>239</td><td> 200</td></tr>\n",
       "\t<tr><td>2</td><td>2019-M020</td><td>Brisbane</td><td>Hard</td><td>32</td><td>A</td><td>20181231</td><td>298</td><td>105453</td><td>2</td><td>⋯</td><td>27</td><td>15</td><td> 6</td><td> 8</td><td> 1</td><td> 5</td><td> 9</td><td>3590</td><td> 40</td><td>1050</td></tr>\n",
       "\t<tr><td>⋮</td><td>⋮</td><td>⋮</td><td>⋮</td><td>⋮</td><td>⋮</td><td>⋮</td><td>⋮</td><td>⋮</td><td>⋮</td><td>⋱</td><td>⋮</td><td>⋮</td><td>⋮</td><td>⋮</td><td>⋮</td><td>⋮</td><td>⋮</td><td>⋮</td><td>⋮</td><td>⋮</td></tr>\n",
       "\t<tr><td>2883</td><td>2017-M-DC-2017-WG-M-BEL-FRA-01</td><td>Davis Cup WG F: BEL vs FRA</td><td>Hard</td><td>4</td><td>D</td><td>20171124</td><td>2</td><td>104542</td><td>NA</td><td>⋯</td><td>54</td><td>30</td><td>12</td><td>12</td><td>5</td><td>11</td><td>15</td><td>2320</td><td>76</td><td> 667</td></tr>\n",
       "\t<tr><td>2884</td><td>2017-M-DC-2017-WG-M-BEL-FRA-01</td><td>Davis Cup WG F: BEL vs FRA</td><td>Hard</td><td>4</td><td>D</td><td>20171124</td><td>4</td><td>105676</td><td>NA</td><td>⋯</td><td>54</td><td>44</td><td>13</td><td>14</td><td>7</td><td>10</td><td> 7</td><td>3775</td><td>15</td><td>2320</td></tr>\n",
       "\t<tr><td>2885</td><td>2017-M-DC-2017-WG-M-BEL-FRA-01</td><td>Davis Cup WG F: BEL vs FRA</td><td>Hard</td><td>4</td><td>D</td><td>20171124</td><td>5</td><td>106298</td><td>NA</td><td>⋯</td><td>53</td><td>29</td><td>11</td><td>11</td><td>4</td><td>11</td><td>18</td><td>2235</td><td>76</td><td> 667</td></tr>\n",
       "</tbody>\n",
       "</table>\n"
      ],
      "text/latex": [
       "A spec\\_tbl\\_df: 6866 × 50\n",
       "\\begin{tabular}{lllllllllllllllllllll}\n",
       " ...1 & tourney\\_id & tourney\\_name & surface & draw\\_size & tourney\\_level & tourney\\_date & match\\_num & winner\\_id & winner\\_seed & ⋯ & l\\_1stIn & l\\_1stWon & l\\_2ndWon & l\\_SvGms & l\\_bpSaved & l\\_bpFaced & winner\\_rank & winner\\_rank\\_points & loser\\_rank & loser\\_rank\\_points\\\\\n",
       " <dbl> & <chr> & <chr> & <chr> & <dbl> & <chr> & <dbl> & <dbl> & <dbl> & <chr> & ⋯ & <dbl> & <dbl> & <dbl> & <dbl> & <dbl> & <dbl> & <dbl> & <dbl> & <dbl> & <dbl>\\\\\n",
       "\\hline\n",
       "\t 0 & 2019-M020 & Brisbane & Hard & 32 & A & 20181231 & 300 & 105453 & 2 & ⋯ & 54 & 34 & 20 & 14 & 10 & 15 &  9 & 3590 &  16 & 1977\\\\\n",
       "\t 1 & 2019-M020 & Brisbane & Hard & 32 & A & 20181231 & 299 & 106421 & 4 & ⋯ & 52 & 36 &  7 & 10 & 10 & 13 & 16 & 1977 & 239 &  200\\\\\n",
       "\t 2 & 2019-M020 & Brisbane & Hard & 32 & A & 20181231 & 298 & 105453 & 2 & ⋯ & 27 & 15 &  6 &  8 &  1 &  5 &  9 & 3590 &  40 & 1050\\\\\n",
       "\t ⋮ & ⋮ & ⋮ & ⋮ & ⋮ & ⋮ & ⋮ & ⋮ & ⋮ & ⋮ & ⋱ & ⋮ & ⋮ & ⋮ & ⋮ & ⋮ & ⋮ & ⋮ & ⋮ & ⋮ & ⋮\\\\\n",
       "\t 2883 & 2017-M-DC-2017-WG-M-BEL-FRA-01 & Davis Cup WG F: BEL vs FRA & Hard & 4 & D & 20171124 & 2 & 104542 & NA & ⋯ & 54 & 30 & 12 & 12 & 5 & 11 & 15 & 2320 & 76 &  667\\\\\n",
       "\t 2884 & 2017-M-DC-2017-WG-M-BEL-FRA-01 & Davis Cup WG F: BEL vs FRA & Hard & 4 & D & 20171124 & 4 & 105676 & NA & ⋯ & 54 & 44 & 13 & 14 & 7 & 10 &  7 & 3775 & 15 & 2320\\\\\n",
       "\t 2885 & 2017-M-DC-2017-WG-M-BEL-FRA-01 & Davis Cup WG F: BEL vs FRA & Hard & 4 & D & 20171124 & 5 & 106298 & NA & ⋯ & 53 & 29 & 11 & 11 & 4 & 11 & 18 & 2235 & 76 &  667\\\\\n",
       "\\end{tabular}\n"
      ],
      "text/markdown": [
       "\n",
       "A spec_tbl_df: 6866 × 50\n",
       "\n",
       "| ...1 &lt;dbl&gt; | tourney_id &lt;chr&gt; | tourney_name &lt;chr&gt; | surface &lt;chr&gt; | draw_size &lt;dbl&gt; | tourney_level &lt;chr&gt; | tourney_date &lt;dbl&gt; | match_num &lt;dbl&gt; | winner_id &lt;dbl&gt; | winner_seed &lt;chr&gt; | ⋯ ⋯ | l_1stIn &lt;dbl&gt; | l_1stWon &lt;dbl&gt; | l_2ndWon &lt;dbl&gt; | l_SvGms &lt;dbl&gt; | l_bpSaved &lt;dbl&gt; | l_bpFaced &lt;dbl&gt; | winner_rank &lt;dbl&gt; | winner_rank_points &lt;dbl&gt; | loser_rank &lt;dbl&gt; | loser_rank_points &lt;dbl&gt; |\n",
       "|---|---|---|---|---|---|---|---|---|---|---|---|---|---|---|---|---|---|---|---|---|\n",
       "| 0 | 2019-M020 | Brisbane | Hard | 32 | A | 20181231 | 300 | 105453 | 2 | ⋯ | 54 | 34 | 20 | 14 | 10 | 15 |  9 | 3590 |  16 | 1977 |\n",
       "| 1 | 2019-M020 | Brisbane | Hard | 32 | A | 20181231 | 299 | 106421 | 4 | ⋯ | 52 | 36 |  7 | 10 | 10 | 13 | 16 | 1977 | 239 |  200 |\n",
       "| 2 | 2019-M020 | Brisbane | Hard | 32 | A | 20181231 | 298 | 105453 | 2 | ⋯ | 27 | 15 |  6 |  8 |  1 |  5 |  9 | 3590 |  40 | 1050 |\n",
       "| ⋮ | ⋮ | ⋮ | ⋮ | ⋮ | ⋮ | ⋮ | ⋮ | ⋮ | ⋮ | ⋱ | ⋮ | ⋮ | ⋮ | ⋮ | ⋮ | ⋮ | ⋮ | ⋮ | ⋮ | ⋮ |\n",
       "| 2883 | 2017-M-DC-2017-WG-M-BEL-FRA-01 | Davis Cup WG F: BEL vs FRA | Hard | 4 | D | 20171124 | 2 | 104542 | NA | ⋯ | 54 | 30 | 12 | 12 | 5 | 11 | 15 | 2320 | 76 |  667 |\n",
       "| 2884 | 2017-M-DC-2017-WG-M-BEL-FRA-01 | Davis Cup WG F: BEL vs FRA | Hard | 4 | D | 20171124 | 4 | 105676 | NA | ⋯ | 54 | 44 | 13 | 14 | 7 | 10 |  7 | 3775 | 15 | 2320 |\n",
       "| 2885 | 2017-M-DC-2017-WG-M-BEL-FRA-01 | Davis Cup WG F: BEL vs FRA | Hard | 4 | D | 20171124 | 5 | 106298 | NA | ⋯ | 53 | 29 | 11 | 11 | 4 | 11 | 18 | 2235 | 76 |  667 |\n",
       "\n"
      ],
      "text/plain": [
       "     ...1 tourney_id                     tourney_name               surface\n",
       "1    0    2019-M020                      Brisbane                   Hard   \n",
       "2    1    2019-M020                      Brisbane                   Hard   \n",
       "3    2    2019-M020                      Brisbane                   Hard   \n",
       "⋮    ⋮    ⋮                              ⋮                          ⋮      \n",
       "6864 2883 2017-M-DC-2017-WG-M-BEL-FRA-01 Davis Cup WG F: BEL vs FRA Hard   \n",
       "6865 2884 2017-M-DC-2017-WG-M-BEL-FRA-01 Davis Cup WG F: BEL vs FRA Hard   \n",
       "6866 2885 2017-M-DC-2017-WG-M-BEL-FRA-01 Davis Cup WG F: BEL vs FRA Hard   \n",
       "     draw_size tourney_level tourney_date match_num winner_id winner_seed ⋯\n",
       "1    32        A             20181231     300       105453    2           ⋯\n",
       "2    32        A             20181231     299       106421    4           ⋯\n",
       "3    32        A             20181231     298       105453    2           ⋯\n",
       "⋮    ⋮         ⋮             ⋮            ⋮         ⋮         ⋮           ⋱\n",
       "6864 4         D             20171124     2         104542    NA          ⋯\n",
       "6865 4         D             20171124     4         105676    NA          ⋯\n",
       "6866 4         D             20171124     5         106298    NA          ⋯\n",
       "     l_1stIn l_1stWon l_2ndWon l_SvGms l_bpSaved l_bpFaced winner_rank\n",
       "1    54      34       20       14      10        15         9         \n",
       "2    52      36        7       10      10        13        16         \n",
       "3    27      15        6        8       1         5         9         \n",
       "⋮    ⋮       ⋮        ⋮        ⋮       ⋮         ⋮         ⋮          \n",
       "6864 54      30       12       12      5         11        15         \n",
       "6865 54      44       13       14      7         10         7         \n",
       "6866 53      29       11       11      4         11        18         \n",
       "     winner_rank_points loser_rank loser_rank_points\n",
       "1    3590                16        1977             \n",
       "2    1977               239         200             \n",
       "3    3590                40        1050             \n",
       "⋮    ⋮                  ⋮          ⋮                \n",
       "6864 2320               76          667             \n",
       "6865 3775               15         2320             \n",
       "6866 2235               76          667             "
      ]
     },
     "metadata": {},
     "output_type": "display_data"
    }
   ],
   "source": [
    "tennis_data <- read_csv(\"https://raw.githubusercontent.com/keelbeier/dsci100-group69/main/atp2017-2019.csv\")\n",
    "tennis_data"
   ]
  },
  {
   "cell_type": "markdown",
   "id": "13dc2a88-5090-4292-b2f9-ad2b328a6811",
   "metadata": {},
   "source": [
    "**Above:** our csv file read into R"
   ]
  },
  {
   "cell_type": "markdown",
   "id": "30e988f8-8c84-4c74-beee-465df9c7dba6",
   "metadata": {},
   "source": [
    "Now, we will wrangle our data into a tidy format. We will remove all columns that we do not need."
   ]
  },
  {
   "cell_type": "code",
   "execution_count": 13,
   "id": "403d813e-fa57-480c-810d-9fc3c358d399",
   "metadata": {},
   "outputs": [],
   "source": [
    "tennis_data <- tennis_data |>\n",
    "                    select(tourney_date, winner_hand, \n",
    "                      winner_age, loser_hand, loser_age)\n",
    "winner_age_rounded <- round(tennis_data$winner_age)\n",
    "loser_age_rounded <- round(tennis_data$loser_age)"
   ]
  },
  {
   "cell_type": "code",
   "execution_count": null,
   "id": "0473195b-fcd0-4921-8b7a-a694bd74fd5a",
   "metadata": {},
   "outputs": [],
   "source": [
    "sum_hand_win <- table(tennis_data$winner_hand)\n",
    "sum_hand_win"
   ]
  },
  {
   "cell_type": "code",
   "execution_count": 14,
   "id": "ee3d7d22-53a3-41cf-88c3-fa24644dadfc",
   "metadata": {},
   "outputs": [
    {
     "data": {
      "image/png": "[encoded data removed]",
      "text/plain": [
       "plot without title"
      ]
     },
     "metadata": {
      "image/png": {
       "height": 420,
       "width": 480
      }
     },
     "output_type": "display_data"
    }
   ],
   "source": [
    "options(repr.plot.width=8, repr.plot.height=7)\n",
    "tennis_plot <- tennis_data |> \n",
    "    ggplot(aes(x = winner_age_rounded, fill = winner_hand)) +\n",
    "    geom_bar(width = 0.2) +\n",
    "    labs(x = \"Winner age\",\n",
    "        y = \"Winner hand\") +\n",
    "    theme(text = element_text(size = 20))\n",
    "tennis_plot"
   ]
  },
  {
   "cell_type": "code",
   "execution_count": null,
   "id": "e37f64cc-e7b4-4bbe-9206-79737b63bdc5",
   "metadata": {},
   "outputs": [],
   "source": []
  }
 ],
 "metadata": {
  "kernelspec": {
   "display_name": "R",
   "language": "R",
   "name": "ir"
  },
  "language_info": {
   "codemirror_mode": "r",
   "file_extension": ".r",
   "mimetype": "text/x-r-source",
   "name": "R",
   "pygments_lexer": "r",
   "version": "4.1.3"
  }
 },
 "nbformat": 4,
 "nbformat_minor": 5
}
