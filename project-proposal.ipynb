{
 "cells": [
  {
   "cell_type": "code",
   "execution_count": 31,
   "id": "9b25826d-290b-4d30-bc6f-a341aa84ebe1",
   "metadata": {},
   "outputs": [],
   "source": [
    "library(tidyverse)\n",
    "library(repr)\n",
    "options(repr.matrix.max.rows = 6)"
   ]
  },
  {
   "cell_type": "code",
   "execution_count": 32,
   "id": "90332cbc-ad6f-4338-9bf1-3b611e7111ba",
   "metadata": {},
   "outputs": [
    {
     "ename": "ERROR",
     "evalue": "Error in read_html(\"https://raw.githubusercontent.com/keelbeier/dsci100-group69/main/atp2017-2019.csv\"): could not find function \"read_html\"\n",
     "output_type": "error",
     "traceback": [
      "Error in read_html(\"https://raw.githubusercontent.com/keelbeier/dsci100-group69/main/atp2017-2019.csv\"): could not find function \"read_html\"\nTraceback:\n"
     ]
    }
   ],
   "source": [
    "tennis_data <- read_html(\"https://raw.githubusercontent.com/keelbeier/dsci100-group69/main/atp2017-2019.csv\")\n",
    "tennis_data"
   ]
  },
  {
   "cell_type": "markdown",
   "id": "13dc2a88-5090-4292-b2f9-ad2b328a6811",
   "metadata": {},
   "source": [
    "**Above:** our csv file read into R"
   ]
  },
  {
   "cell_type": "markdown",
   "id": "30e988f8-8c84-4c74-beee-465df9c7dba6",
   "metadata": {},
   "source": [
    "Now, we will wrangle our data into a tidy format:"
   ]
  },
  {
   "cell_type": "code",
   "execution_count": 16,
   "id": "403d813e-fa57-480c-810d-9fc3c358d399",
   "metadata": {},
   "outputs": [
    {
     "data": {
      "text/html": [
       "<table class=\"dataframe\">\n",
       "<caption>A tibble: 6866 × 5</caption>\n",
       "<thead>\n",
       "\t<tr><th scope=col>tourney_date</th><th scope=col>winner_hand</th><th scope=col>winner_age</th><th scope=col>loser_hand</th><th scope=col>loser_age</th></tr>\n",
       "\t<tr><th scope=col>&lt;dbl&gt;</th><th scope=col>&lt;chr&gt;</th><th scope=col>&lt;dbl&gt;</th><th scope=col>&lt;chr&gt;</th><th scope=col>&lt;dbl&gt;</th></tr>\n",
       "</thead>\n",
       "<tbody>\n",
       "\t<tr><td>20181231</td><td>R</td><td>29.00479</td><td>R</td><td>22.88569</td></tr>\n",
       "\t<tr><td>20181231</td><td>R</td><td>22.88569</td><td>R</td><td>33.70568</td></tr>\n",
       "\t<tr><td>20181231</td><td>R</td><td>29.00479</td><td>R</td><td>31.88227</td></tr>\n",
       "\t<tr><td>⋮</td><td>⋮</td><td>⋮</td><td>⋮</td><td>⋮</td></tr>\n",
       "\t<tr><td>20171124</td><td>R</td><td>32.59411</td><td>R</td><td>33.68925</td></tr>\n",
       "\t<tr><td>20171124</td><td>R</td><td>26.95414</td><td>R</td><td>32.59411</td></tr>\n",
       "\t<tr><td>20171124</td><td>R</td><td>23.73990</td><td>R</td><td>33.68925</td></tr>\n",
       "</tbody>\n",
       "</table>\n"
      ],
      "text/latex": [
       "A tibble: 6866 × 5\n",
       "\\begin{tabular}{lllll}\n",
       " tourney\\_date & winner\\_hand & winner\\_age & loser\\_hand & loser\\_age\\\\\n",
       " <dbl> & <chr> & <dbl> & <chr> & <dbl>\\\\\n",
       "\\hline\n",
       "\t 20181231 & R & 29.00479 & R & 22.88569\\\\\n",
       "\t 20181231 & R & 22.88569 & R & 33.70568\\\\\n",
       "\t 20181231 & R & 29.00479 & R & 31.88227\\\\\n",
       "\t ⋮ & ⋮ & ⋮ & ⋮ & ⋮\\\\\n",
       "\t 20171124 & R & 32.59411 & R & 33.68925\\\\\n",
       "\t 20171124 & R & 26.95414 & R & 32.59411\\\\\n",
       "\t 20171124 & R & 23.73990 & R & 33.68925\\\\\n",
       "\\end{tabular}\n"
      ],
      "text/markdown": [
       "\n",
       "A tibble: 6866 × 5\n",
       "\n",
       "| tourney_date &lt;dbl&gt; | winner_hand &lt;chr&gt; | winner_age &lt;dbl&gt; | loser_hand &lt;chr&gt; | loser_age &lt;dbl&gt; |\n",
       "|---|---|---|---|---|\n",
       "| 20181231 | R | 29.00479 | R | 22.88569 |\n",
       "| 20181231 | R | 22.88569 | R | 33.70568 |\n",
       "| 20181231 | R | 29.00479 | R | 31.88227 |\n",
       "| ⋮ | ⋮ | ⋮ | ⋮ | ⋮ |\n",
       "| 20171124 | R | 32.59411 | R | 33.68925 |\n",
       "| 20171124 | R | 26.95414 | R | 32.59411 |\n",
       "| 20171124 | R | 23.73990 | R | 33.68925 |\n",
       "\n"
      ],
      "text/plain": [
       "     tourney_date winner_hand winner_age loser_hand loser_age\n",
       "1    20181231     R           29.00479   R          22.88569 \n",
       "2    20181231     R           22.88569   R          33.70568 \n",
       "3    20181231     R           29.00479   R          31.88227 \n",
       "⋮    ⋮            ⋮           ⋮          ⋮          ⋮        \n",
       "6864 20171124     R           32.59411   R          33.68925 \n",
       "6865 20171124     R           26.95414   R          32.59411 \n",
       "6866 20171124     R           23.73990   R          33.68925 "
      ]
     },
     "metadata": {},
     "output_type": "display_data"
    }
   ],
   "source": [
    "tennis_data <- select(tennis_data, tourney_date, winner_hand, \n",
    "                      winner_age, loser_hand, loser_age)\n",
    "tennis_data"
   ]
  }
 ],
 "metadata": {
  "kernelspec": {
   "display_name": "R",
   "language": "R",
   "name": "ir"
  },
  "language_info": {
   "codemirror_mode": "r",
   "file_extension": ".r",
   "mimetype": "text/x-r-source",
   "name": "R",
   "pygments_lexer": "r",
   "version": "4.1.3"
  }
 },
 "nbformat": 4,
 "nbformat_minor": 5
}
