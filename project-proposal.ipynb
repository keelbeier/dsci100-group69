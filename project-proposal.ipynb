{
 "cells": [
  {
   "cell_type": "markdown",
   "id": "5302d6a4-b815-4ffe-852c-f59b8df8b898",
   "metadata": {},
   "source": [
    "# Using age and racket hand to predict the winners of tennis games\n",
    "\n",
    "Question: Can we predict the winner of tennis matches based on their age and hand used to hold the racket?\n",
    "\n",
    "### Introduction\n",
    "In the dataset provided by Jeff Sackman, data from tennis matches are provided, with game statistics as well as winner and loser attributes. We will be using data collected between 2017 and 2019. We will focus on the columns titled “winner_hand”, “winner_age”, “loser_hand”, and “loser_age”. “Hand” refers to the hand the athlete used to hold their racket during the match, and “age” refers to the athlete’s recorded age at the time of the match. Using these data, we will attempt to answer the question: can we predict the winner of tennis matches based on their age and hand used to hold the racket? \n",
    "\n",
    "### Preliminary exploratory data analysis\n",
    "The dataset would be read using “read_csv”. To tidy the data, we use “select()” to select all the columns we need, including “winner_age”, “winner_hand”, “loser_age”, and “loser_hand”. "
   ]
  },
  {
   "cell_type": "code",
   "execution_count": 2,
   "id": "9b25826d-290b-4d30-bc6f-a341aa84ebe1",
   "metadata": {},
   "outputs": [
    {
     "name": "stderr",
     "output_type": "stream",
     "text": [
      "── \u001b[1mAttaching packages\u001b[22m ─────────────────────────────────────── tidyverse 1.3.1 ──\n",
      "\n",
      "\u001b[32m✔\u001b[39m \u001b[34mggplot2\u001b[39m 3.3.6     \u001b[32m✔\u001b[39m \u001b[34mpurrr  \u001b[39m 0.3.4\n",
      "\u001b[32m✔\u001b[39m \u001b[34mtibble \u001b[39m 3.1.7     \u001b[32m✔\u001b[39m \u001b[34mdplyr  \u001b[39m 1.0.9\n",
      "\u001b[32m✔\u001b[39m \u001b[34mtidyr  \u001b[39m 1.2.0     \u001b[32m✔\u001b[39m \u001b[34mstringr\u001b[39m 1.4.0\n",
      "\u001b[32m✔\u001b[39m \u001b[34mreadr  \u001b[39m 2.1.2     \u001b[32m✔\u001b[39m \u001b[34mforcats\u001b[39m 0.5.1\n",
      "\n",
      "── \u001b[1mConflicts\u001b[22m ────────────────────────────────────────── tidyverse_conflicts() ──\n",
      "\u001b[31m✖\u001b[39m \u001b[34mdplyr\u001b[39m::\u001b[32mfilter()\u001b[39m masks \u001b[34mstats\u001b[39m::filter()\n",
      "\u001b[31m✖\u001b[39m \u001b[34mdplyr\u001b[39m::\u001b[32mlag()\u001b[39m    masks \u001b[34mstats\u001b[39m::lag()\n",
      "\n"
     ]
    }
   ],
   "source": [
    "library(tidyverse)\n",
    "library(repr)\n",
    "library(dplyr)\n",
    "options(repr.matrix.max.rows = 6)"
   ]
  },
  {
   "cell_type": "code",
   "execution_count": null,
   "id": "90332cbc-ad6f-4338-9bf1-3b611e7111ba",
   "metadata": {
    "tags": []
   },
   "outputs": [
    {
     "name": "stderr",
     "output_type": "stream",
     "text": [
      "\u001b[1m\u001b[22mNew names:\n",
      "\u001b[36m•\u001b[39m `` -> `...1`\n",
      "\u001b[1mRows: \u001b[22m\u001b[34m6866\u001b[39m \u001b[1mColumns: \u001b[22m\u001b[34m50\u001b[39m\n",
      "\u001b[36m──\u001b[39m \u001b[1mColumn specification\u001b[22m \u001b[36m────────────────────────────────────────────────────────\u001b[39m\n",
      "\u001b[1mDelimiter:\u001b[22m \",\"\n",
      "\u001b[31mchr\u001b[39m (16): tourney_id, tourney_name, surface, tourney_level, winner_seed, win...\n",
      "\u001b[32mdbl\u001b[39m (34): ...1, draw_size, tourney_date, match_num, winner_id, winner_ht, wi...\n",
      "\n",
      "\u001b[36mℹ\u001b[39m Use `spec()` to retrieve the full column specification for this data.\n",
      "\u001b[36mℹ\u001b[39m Specify the column types or set `show_col_types = FALSE` to quiet this message.\n"
     ]
    }
   ],
   "source": [
    "tennis_data <- read_csv(\"https://raw.githubusercontent.com/keelbeier/dsci100-group69/main/atp2017-2019.csv\")\n",
    "tennis_data"
   ]
  },
  {
   "cell_type": "markdown",
   "id": "13dc2a88-5090-4292-b2f9-ad2b328a6811",
   "metadata": {},
   "source": [
    "**Above:** our csv file read into R"
   ]
  },
  {
   "cell_type": "markdown",
   "id": "30e988f8-8c84-4c74-beee-465df9c7dba6",
   "metadata": {},
   "source": [
    "Now, we will wrangle our data into a tidy format. We will remove all columns that we do not need."
   ]
  },
  {
   "cell_type": "code",
   "execution_count": 1,
   "id": "403d813e-fa57-480c-810d-9fc3c358d399",
   "metadata": {},
   "outputs": [
    {
     "ename": "ERROR",
     "evalue": "Error in select(tennis_data, tourney_date, winner_hand, winner_age, loser_hand, : could not find function \"select\"\n",
     "output_type": "error",
     "traceback": [
      "Error in select(tennis_data, tourney_date, winner_hand, winner_age, loser_hand, : could not find function \"select\"\nTraceback:\n"
     ]
    }
   ],
   "source": [
    "tennis_data <- tennis_data |>\n",
    "                    select(tourney_date, winner_hand, \n",
    "                      winner_age, loser_hand, loser_age)\n",
    "winner_age_rounded <- round(tennis_data$winner_age)\n",
    "loser_age_rounded <- round(tennis_data$loser_age)"
   ]
  },
  {
   "cell_type": "code",
   "execution_count": null,
   "id": "0473195b-fcd0-4921-8b7a-a694bd74fd5a",
   "metadata": {},
   "outputs": [],
   "source": [
    "sum_hand_win <- table(tennis_data$winner_hand)\n",
    "sum_hand_win"
   ]
  },
  {
   "cell_type": "markdown",
   "id": "bb4a864b-bc0f-4c28-9c14-f877a87f27f3",
   "metadata": {},
   "source": [
    "A bar graph that counts the number of winners in each age with the racket hand labelled is created to see the distribution of the data. "
   ]
  },
  {
   "cell_type": "code",
   "execution_count": null,
   "id": "ee3d7d22-53a3-41cf-88c3-fa24644dadfc",
   "metadata": {},
   "outputs": [],
   "source": [
    "options(repr.plot.width=8, repr.plot.height=7)\n",
    "tennis_plot <- tennis_data |> \n",
    "    ggplot(aes(x = winner_age_rounded, fill = winner_hand)) +\n",
    "    geom_bar(width = 0.2) +\n",
    "    labs(x = \"Winner age\",\n",
    "        y = \"Number of Players\") +\n",
    "    theme(text = element_text(size = 20)) + \n",
    "    scale_fill_discrete(name = \"Winner Racket Hand\", labels = c(\"Left\", \"Right\", \"Undefined\"))\n",
    "tennis_plot"
   ]
  },
  {
   "cell_type": "markdown",
   "id": "a9f97e50-213b-47a9-985e-7c9dde8d1aad",
   "metadata": {},
   "source": [
    "### Methods\n",
    "\n",
    "We used the classification to predict the winner in a match based on their age and used hands in the match. We achieved our data analysis by using the K-nearest neighbors from the tidymodels package. We used the “winner_age”, “winner_hand”, “loser_age”, “loser_hand”  columns to make our training data set.  \n",
    "We visualized our results by using the ggplot2 function in the tidyverse package. Our visualization used different shapes to represent hands which players used and two different colors to indicate the winners and losers. We used the x-axis to represent the winners’ ages and indicated the y-axis as the losers’ ages."
   ]
  },
  {
   "cell_type": "markdown",
   "id": "239936d0-011d-430b-85b7-441f13b95e19",
   "metadata": {},
   "source": [
    "### Expected Outcomes\n",
    "\n",
    "By applying the methods stated in the methods section, we expect to get a scatter plot of the winners age versus loser’s age with different shapes/color assigned for the dots based on the winner’s racket hand. We expect to see a trend from the graph that shows the range where the winners age is more clustered. A guess we made for the result is that winners age would be overall smaller than the loser’s age, so the plot would be more clustered around the beginning of the winner’s age’s axis. Scanning through the header of the data set, we could see that the majority of players are right-handed, therefore we expect to see that the shape/color for right handed players would appear more often. \n",
    "The result of the study can be used to predict the winner of a tenis game before the game have started, which could be useful for sports betting. \n",
    "Some future questions that could be brought up from the result of the study include: Is the energy of tenis players affected by age? Does experience gained from the increase in age help in winning a game? "
   ]
  },
  {
   "cell_type": "code",
   "execution_count": null,
   "id": "0f8d0530-7209-48ea-93fc-a58c51589be2",
   "metadata": {},
   "outputs": [],
   "source": []
  }
 ],
 "metadata": {
  "kernelspec": {
   "display_name": "R",
   "language": "R",
   "name": "ir"
  },
  "language_info": {
   "codemirror_mode": "r",
   "file_extension": ".r",
   "mimetype": "text/x-r-source",
   "name": "R",
   "pygments_lexer": "r",
   "version": "4.1.3"
  }
 },
 "nbformat": 4,
 "nbformat_minor": 5
}
