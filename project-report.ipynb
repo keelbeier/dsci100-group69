{
 "cells": [
  {
   "cell_type": "markdown",
   "id": "fe4b6ddf-4b65-4acd-829e-145b11b4a268",
   "metadata": {},
   "source": [
    "This is where we will put our report work."
   ]
  },
  {
   "cell_type": "code",
   "execution_count": null,
   "id": "61f3f8ae-461a-4db0-b251-55b3e27ca748",
   "metadata": {},
   "outputs": [],
   "source": []
  }
 ],
 "metadata": {
  "kernelspec": {
   "display_name": "R",
   "language": "R",
   "name": "ir"
  },
  "language_info": {
   "codemirror_mode": "r",
   "file_extension": ".r",
   "mimetype": "text/x-r-source",
   "name": "R",
   "pygments_lexer": "r",
   "version": "4.1.3"
  }
 },
 "nbformat": 4,
 "nbformat_minor": 5
}
